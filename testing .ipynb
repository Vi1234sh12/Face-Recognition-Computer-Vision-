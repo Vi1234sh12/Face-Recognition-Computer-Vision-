{
 "cells": [
  {
   "cell_type": "code",
   "execution_count": 1,
   "metadata": {},
   "outputs": [],
   "source": [
    "import cv2"
   ]
  },
  {
   "cell_type": "code",
   "execution_count": 2,
   "metadata": {},
   "outputs": [],
   "source": [
    "import numpy as np"
   ]
  },
  {
   "cell_type": "code",
   "execution_count": 3,
   "metadata": {},
   "outputs": [],
   "source": [
    "#events = [i for i in dir(cv2) if 'EVENT' in i]\n",
    "#print(events)"
   ]
  },
  {
   "cell_type": "code",
   "execution_count": 4,
   "metadata": {},
   "outputs": [],
   "source": [
    "def click_event(event,x,y,flags,param):\n",
    "    if event ==cv2.EVENT_LBUTTONDOWN:\n",
    "        print(x,',',y)\n",
    "        font = cv2.FONT_HERSHEY_SIMPLEX\n",
    "        strXY = str(x)+','+ str(y)\n",
    "        cv2.putText(img ,strXY ,(x,y),font,.5,(255,255,0),2)\n",
    "        cv2.imshow('image',img)\n",
    "        \n",
    "    if event == cv2.EVENT_RBUTTONDOWN:\n",
    "        blue = img[y , x, 0]\n",
    "        green = img[y, x ,1]\n",
    "        red  = img[y, x ,2]\n",
    "        font = cv2.FONT_HERSHEY_SIMPLEX\n",
    "        strBGR = str(blue) +','+ str(green) +','+ str(red)\n",
    "        cv2.putText(img ,strBGR ,(x,y),font,.5,(0,255,255),2)\n",
    "        cv2.imshow('image',img)\n",
    "\n",
    "        \n"
   ]
  },
  {
   "cell_type": "code",
   "execution_count": 5,
   "metadata": {},
   "outputs": [
    {
     "name": "stdout",
     "output_type": "stream",
     "text": [
      "114 , 101\n",
      "132 , 174\n",
      "688 , 101\n",
      "715 , 411\n",
      "619 , 305\n",
      "587 , 403\n",
      "549 , 516\n",
      "341 , 361\n",
      "249 , 425\n",
      "304 , 250\n",
      "142 , 343\n",
      "126 , 469\n",
      "437 , 554\n",
      "488 , 468\n",
      "302 , 540\n",
      "316 , 32\n",
      "572 , 34\n",
      "638 , 160\n",
      "820 , 239\n",
      "861 , 104\n",
      "75 , 219\n",
      "48 , 392\n",
      "71 , 523\n",
      "739 , 552\n",
      "809 , 360\n",
      "525 , 210\n",
      "437 , 367\n",
      "452 , 29\n",
      "190 , 34\n",
      "96 , 26\n",
      "31 , 80\n",
      "243 , 245\n",
      "86 , 293\n"
     ]
    }
   ],
   "source": [
    "#img = np.zeros((512,512,3),np.uint8)\n",
    "img = cv2.imread('style.jpg')\n",
    "cv2.imshow('image',img)\n",
    "\n",
    "cv2.setMouseCallback('image', click_event)\n",
    "cv2.waitKey()\n",
    "cv2.destroyAllWindows()"
   ]
  },
  {
   "cell_type": "code",
   "execution_count": null,
   "metadata": {},
   "outputs": [],
   "source": []
  },
  {
   "cell_type": "code",
   "execution_count": null,
   "metadata": {},
   "outputs": [],
   "source": []
  }
 ],
 "metadata": {
  "kernelspec": {
   "display_name": "Python 3",
   "language": "python",
   "name": "python3"
  },
  "language_info": {
   "codemirror_mode": {
    "name": "ipython",
    "version": 3
   },
   "file_extension": ".py",
   "mimetype": "text/x-python",
   "name": "python",
   "nbconvert_exporter": "python",
   "pygments_lexer": "ipython3",
   "version": "3.8.3"
  }
 },
 "nbformat": 4,
 "nbformat_minor": 4
}
